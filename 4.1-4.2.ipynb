{
 "cells": [
  {
   "cell_type": "code",
   "execution_count": 8,
   "id": "f9aff252-71d4-4740-9638-1c921f21ff21",
   "metadata": {},
   "outputs": [
    {
     "name": "stdout",
     "output_type": "stream",
     "text": [
      "too low\n"
     ]
    }
   ],
   "source": [
    "#4.1\n",
    "secret = 7;\n",
    "guess = 4;\n",
    "\n",
    "if guess > secret:\n",
    "    print(\"too high\");\n",
    "elif guess < secret:\n",
    "    print(\"too low\");\n",
    "else:\n",
    "    print(\"just right\");"
   ]
  },
  {
   "cell_type": "code",
   "execution_count": 16,
   "id": "96baff90-8b2e-4b0e-a432-6d8ac55a66a8",
   "metadata": {},
   "outputs": [
    {
     "name": "stdout",
     "output_type": "stream",
     "text": [
      "gourd\n"
     ]
    }
   ],
   "source": [
    "#4.2\n",
    "small = False;\n",
    "green = False;\n",
    "\n",
    "if small:\n",
    "    if green:\n",
    "        print(\"pea\");\n",
    "    else:\n",
    "        print(\"blueberry\");\n",
    "else:\n",
    "    if green:\n",
    "        print(\"watermelon\");\n",
    "    else:\n",
    "        print(\"gourd\");"
   ]
  },
  {
   "cell_type": "code",
   "execution_count": null,
   "id": "7b82dd7a-e698-4b2d-9caa-caf739f03844",
   "metadata": {},
   "outputs": [],
   "source": []
  }
 ],
 "metadata": {
  "kernelspec": {
   "display_name": "Python 3 (ipykernel)",
   "language": "python",
   "name": "python3"
  },
  "language_info": {
   "codemirror_mode": {
    "name": "ipython",
    "version": 3
   },
   "file_extension": ".py",
   "mimetype": "text/x-python",
   "name": "python",
   "nbconvert_exporter": "python",
   "pygments_lexer": "ipython3",
   "version": "3.12.4"
  }
 },
 "nbformat": 4,
 "nbformat_minor": 5
}
