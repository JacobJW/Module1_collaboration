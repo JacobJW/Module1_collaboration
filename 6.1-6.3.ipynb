{
 "cells": [
  {
   "cell_type": "code",
   "execution_count": 3,
   "id": "dc844dcf-d373-42d1-9791-4e21a46912d9",
   "metadata": {},
   "outputs": [
    {
     "name": "stdout",
     "output_type": "stream",
     "text": [
      "3\n",
      "2\n",
      "1\n",
      "0\n"
     ]
    }
   ],
   "source": [
    "#6.1\n",
    "for x in range(3,-1,-1):\n",
    "    print(x)"
   ]
  },
  {
   "cell_type": "code",
   "execution_count": 5,
   "id": "d9c1b708-d911-4199-b58f-9c53b8207c3e",
   "metadata": {},
   "outputs": [
    {
     "name": "stdout",
     "output_type": "stream",
     "text": [
      "Too low!\n",
      "Too low!\n",
      "Too low!\n",
      "Too low!\n",
      "Too low!\n",
      "Too low!\n",
      "Found it!\n"
     ]
    }
   ],
   "source": [
    "#6.2\n",
    "guess_me = 7;\n",
    "number = 1;\n",
    "\n",
    "while number != guess_me:\n",
    "    if number > guess_me:\n",
    "        print(\"oops!\");\n",
    "        number -= 1;\n",
    "    elif number < guess_me:\n",
    "        print(\"Too low!\");\n",
    "        number += 1;\n",
    "print(\"Found it!\");"
   ]
  },
  {
   "cell_type": "code",
   "execution_count": 13,
   "id": "4b97501a-aed3-4460-807d-8361747591bb",
   "metadata": {},
   "outputs": [
    {
     "name": "stdout",
     "output_type": "stream",
     "text": [
      "Too low!\n",
      "Too low!\n",
      "Too low!\n",
      "Too low!\n",
      "Too low!\n",
      "Found it!\n"
     ]
    }
   ],
   "source": [
    "#6.3\n",
    "guess_me = 5;\n",
    "number = 1;\n",
    "\n",
    "for number in range(10):\n",
    "    if number == guess_me:\n",
    "        print(\"Found it!\");\n",
    "        break;\n",
    "    elif number > guess_me:\n",
    "        print(\"oops!\");\n",
    "        break;\n",
    "    elif number < guess_me:\n",
    "        print(\"Too low!\");\n",
    "        number += 1;"
   ]
  },
  {
   "cell_type": "code",
   "execution_count": null,
   "id": "e1f55ed1-a37b-4d74-a17f-6a0b087b6640",
   "metadata": {},
   "outputs": [],
   "source": []
  }
 ],
 "metadata": {
  "kernelspec": {
   "display_name": "Python 3 (ipykernel)",
   "language": "python",
   "name": "python3"
  },
  "language_info": {
   "codemirror_mode": {
    "name": "ipython",
    "version": 3
   },
   "file_extension": ".py",
   "mimetype": "text/x-python",
   "name": "python",
   "nbconvert_exporter": "python",
   "pygments_lexer": "ipython3",
   "version": "3.12.4"
  }
 },
 "nbformat": 4,
 "nbformat_minor": 5
}
