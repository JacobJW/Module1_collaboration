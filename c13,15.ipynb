{
 "cells": [
  {
   "cell_type": "code",
   "execution_count": 3,
   "id": "98c9b1ea-3243-41d9-919b-c90b9d21bb89",
   "metadata": {},
   "outputs": [],
   "source": [
    "# 13.1\n",
    "import datetime as dt\n",
    "\n",
    "f = open('today.txt','w')\n",
    "current_date = str(dt.datetime.now())\n",
    "# write to file\n",
    "f.write(current_date)\n",
    "f.close()"
   ]
  },
  {
   "cell_type": "code",
   "execution_count": 7,
   "id": "da409e35-8e8c-4769-97aa-b70ca59bf371",
   "metadata": {},
   "outputs": [
    {
     "name": "stdout",
     "output_type": "stream",
     "text": [
      "2024-09-25 18:24:28.386317\n"
     ]
    }
   ],
   "source": [
    "# 13.2\n",
    "f = open('today.txt','r')\n",
    "today_string = f.read()\n",
    "print(today_string)"
   ]
  },
  {
   "cell_type": "code",
   "execution_count": 9,
   "id": "df230d45-6f6c-4f42-a321-1a17ec134e9a",
   "metadata": {},
   "outputs": [
    {
     "name": "stdout",
     "output_type": "stream",
     "text": [
      "September-2024\n"
     ]
    }
   ],
   "source": [
    "# 13.3\n",
    "import datetime as dt\n",
    "\n",
    "f = open('today.txt','w')\n",
    "\n",
    "properdate = dt.datetime.now().strftime('%B-%Y')\n",
    "\n",
    "# write to file\n",
    "f.write(properdate)\n",
    "f.close()\n",
    "\n",
    "# read from file\n",
    "q = open('today.txt','r')\n",
    "today_string = q.read()\n",
    "print(today_string)\n",
    "q.close()"
   ]
  },
  {
   "cell_type": "code",
   "execution_count": 39,
   "id": "8144acfa-51f2-4e36-855e-74def915a8e4",
   "metadata": {},
   "outputs": [],
   "source": [
    "# 15.1\n",
    "import datetime as dt\n",
    "import time\n",
    "import multiprocessing as multi\n",
    "import random as rand\n",
    "\n",
    "def func_A():\n",
    "    wait_time = rand.randint(0,1)\n",
    "    time.sleep(wait_time)\n",
    "    print(dt.datetime.now().strftime('%H:%M:%S'))\n",
    "\n",
    "def func_B():\n",
    "    wait_time = rand.randint(0,1)\n",
    "    time.sleep(wait_time)\n",
    "    print(dt.datetime.now().strftime('%H:%M:%S'))\n",
    "\n",
    "def func_C():\n",
    "    wait_time = rand.randint(0,1)\n",
    "    time.sleep(wait_time)\n",
    "    print(dt.datetime.now().strftime('%H:%M:%S'))\n",
    "\n",
    "if __name__ == '__main__':\n",
    "    process1 = multi.Process(target=func_A)\n",
    "    process2 = multi.Process(target=func_B)\n",
    "    process3 = multi.Process(target=func_C)\n",
    "    \n",
    "    process1.start()\n",
    "    process2.start()\n",
    "    process3.start()\n",
    "\n",
    "# I don't think jupyter can handle the multiprocessing module- it creates no output. Copying this into VS Code does produce output. "
   ]
  },
  {
   "cell_type": "code",
   "execution_count": null,
   "id": "9945c6e5-8e74-4a06-8598-ed48be1477d2",
   "metadata": {},
   "outputs": [],
   "source": []
  }
 ],
 "metadata": {
  "kernelspec": {
   "display_name": "Python 3 (ipykernel)",
   "language": "python",
   "name": "python3"
  },
  "language_info": {
   "codemirror_mode": {
    "name": "ipython",
    "version": 3
   },
   "file_extension": ".py",
   "mimetype": "text/x-python",
   "name": "python",
   "nbconvert_exporter": "python",
   "pygments_lexer": "ipython3",
   "version": "3.12.4"
  }
 },
 "nbformat": 4,
 "nbformat_minor": 5
}
