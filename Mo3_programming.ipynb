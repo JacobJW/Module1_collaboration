{
 "cells": [
  {
   "cell_type": "code",
   "execution_count": 35,
   "id": "01ee766a-e079-4888-a768-ecc972c84c2b",
   "metadata": {},
   "outputs": [
    {
     "name": "stdout",
     "output_type": "stream",
     "text": [
      "['mozzarella', 'Cinderella', 'salmonella']\n"
     ]
    }
   ],
   "source": [
    "#7.4, 7.5\n",
    "things = [\"mozzarella\",\"cinderella\",\"salmonella\"]\n",
    "things[1] = things[1].capitalize()\n",
    "print(things)"
   ]
  },
  {
   "cell_type": "code",
   "execution_count": 37,
   "id": "87fbea6b-4c18-4aa1-9a96-a17743c12b93",
   "metadata": {},
   "outputs": [
    {
     "name": "stdout",
     "output_type": "stream",
     "text": [
      "['MOZZARELLA', 'Cinderella', 'salmonella']\n"
     ]
    }
   ],
   "source": [
    "#7,6\n",
    "things[0] = things[0].upper()\n",
    "print(things)"
   ]
  },
  {
   "cell_type": "code",
   "execution_count": 39,
   "id": "aca0c5c6-a962-49ac-ab67-54960a01b333",
   "metadata": {},
   "outputs": [
    {
     "name": "stdout",
     "output_type": "stream",
     "text": [
      "['MOZZARELLA', 'Cinderella']\n"
     ]
    }
   ],
   "source": [
    "#7.7\n",
    "del things[2]\n",
    "print(things)"
   ]
  },
  {
   "cell_type": "code",
   "execution_count": 41,
   "id": "2018c9c1-ab1a-4936-8a34-aa099682440c",
   "metadata": {},
   "outputs": [
    {
     "name": "stdout",
     "output_type": "stream",
     "text": [
      "['Harry', 'Ron', 'Hermoine']\n"
     ]
    }
   ],
   "source": [
    "#9.1\n",
    "def good():\n",
    "    return(['Harry','Ron','Hermoine'])\n",
    "print(good())"
   ]
  },
  {
   "cell_type": "code",
   "execution_count": 51,
   "id": "1a1e1c01-6345-4c40-8899-ac4b780523b2",
   "metadata": {},
   "outputs": [
    {
     "name": "stdout",
     "output_type": "stream",
     "text": [
      "5\n"
     ]
    }
   ],
   "source": [
    "#9.2 - Odds Generator\n",
    "def get_odds():\n",
    "    list = [] # Empty list to fill\n",
    "    for number in range(10):\n",
    "        if number % 2: # Check if divisible by 2\n",
    "            list.append(number) # Add odd number to list\n",
    "    return(list)\n",
    "\n",
    "output = get_odds() # Sets an external list\n",
    "print(output[2]) # Print 3rd position in list"
   ]
  },
  {
   "cell_type": "code",
   "execution_count": null,
   "id": "d805ae47-6e52-49c4-b8a8-79671dc38198",
   "metadata": {},
   "outputs": [],
   "source": []
  }
 ],
 "metadata": {
  "kernelspec": {
   "display_name": "Python 3 (ipykernel)",
   "language": "python",
   "name": "python3"
  },
  "language_info": {
   "codemirror_mode": {
    "name": "ipython",
    "version": 3
   },
   "file_extension": ".py",
   "mimetype": "text/x-python",
   "name": "python",
   "nbconvert_exporter": "python",
   "pygments_lexer": "ipython3",
   "version": "3.12.4"
  }
 },
 "nbformat": 4,
 "nbformat_minor": 5
}
